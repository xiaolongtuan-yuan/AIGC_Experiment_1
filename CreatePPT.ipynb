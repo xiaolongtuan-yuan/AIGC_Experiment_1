{
 "cells": [
  {
   "cell_type": "code",
   "id": "initial_id",
   "metadata": {
    "collapsed": true,
    "ExecuteTime": {
     "end_time": "2024-11-02T07:34:45.086946Z",
     "start_time": "2024-11-02T07:34:43.961860Z"
    }
   },
   "source": [
    "from ppt_agent import PPTAgent\n",
    "import os\n",
    "march_revenue_file = \"resources/march_revenue.csv\"\n",
    "march_room_revenue = \"resources/march_room_revenue.csv\""
   ],
   "outputs": [],
   "execution_count": 1
  },
  {
   "metadata": {
    "ExecuteTime": {
     "end_time": "2024-11-02T07:34:51.671572Z",
     "start_time": "2024-11-02T07:34:51.668715Z"
    }
   },
   "cell_type": "code",
   "source": [
    "api_key = os.getenv(\"OPENAI_KEY\")\n",
    "print(api_key)\n",
    "chatPPT = PPTAgent(api_key=api_key)"
   ],
   "id": "6dfed19d1bdf09ff",
   "outputs": [
    {
     "name": "stdout",
     "output_type": "stream",
     "text": [
      "None\n"
     ]
    }
   ],
   "execution_count": 2
  },
  {
   "metadata": {
    "ExecuteTime": {
     "end_time": "2024-11-01T14:33:29.780277Z",
     "start_time": "2024-11-01T14:33:26.435532Z"
    }
   },
   "cell_type": "code",
   "source": "PPTAgent.upload_files(\"resources/march_room_revenue.csv\")",
   "id": "246b4a62d54bd431",
   "outputs": [
    {
     "name": "stdout",
     "output_type": "stream",
     "text": [
      "process file successfully\n"
     ]
    }
   ],
   "execution_count": 2
  },
  {
   "metadata": {
    "ExecuteTime": {
     "end_time": "2024-11-01T14:37:15.695548Z",
     "start_time": "2024-11-01T14:37:12.724623Z"
    }
   },
   "cell_type": "code",
   "source": "PPTAgent.upload_files(\"resources/march_revenue.csv\")",
   "id": "3c9caa64dd2b3852",
   "outputs": [
    {
     "name": "stdout",
     "output_type": "stream",
     "text": [
      "process file successfully\n"
     ]
    }
   ],
   "execution_count": 6
  },
  {
   "metadata": {
    "ExecuteTime": {
     "end_time": "2024-11-01T14:37:25.503028Z",
     "start_time": "2024-11-01T14:37:19.256090Z"
    }
   },
   "cell_type": "code",
   "source": "ppt_content = PPTAgent.gen_ppt_content(topic=\"酒店经营数据汇报\", pages=4, language=\"cn\")",
   "id": "7a2de485f3701855",
   "outputs": [
    {
     "name": "stdout",
     "output_type": "stream",
     "text": [
      "I'm working hard to generate your PPT about 酒店经营数据汇报.\r\n",
      "It may takes about a few minutes.\r\n",
      "Your PPT will be generated in Chinese\r\n",
      "[{'role': 'user', 'content': 'I am preparing a presentation on 酒店经营数据汇报.\\nPlease assist in generating an outline in JSON format, adhering to the specified format\\n{\\n    \"title\": \"example title\",\\n    \"pages\": [\\n        {\\n            \"type\": \"text\", # text or chart\\n            \"title\": \"title for page 1\",\\n            \"content\": [\\n                {\\n                    \"title\": \"title for bullet 1\",\\n                    \"description\": \"detail for bullet 1\"\\n                },\\n                {\\n                    \"title\": \"title for bullet 2\",\\n                    \"description\": \"detail for bullet 2\"\\n                }\\n            ]\\n        },\\n        {\\n            \"type\": \"chart\",\\n            \"title\": \"title for page 2 (title of the data insights)\",\\n            \"content\": [\\n                {\\n                    \"description\": \"description for data insights\",\\n                    \"file_path\": \"file path of Data chart\"  # must have, chart file path of the giving data insights\\n                }\\n            ]\\n        }\\n    ]\\n}.\\nif the page type is \"chart\", the parameters of content must have \"description\" and \"file_path\".\\nThe data and chart path are given below:\\n[{\\'file_path\\': \\'resources/各房型营业额饼图.jpg\\', \\'data_insights\\': \\'该数据文件包含了五种类型的客房，分别是标准客房、豪华客房、套房、家庭客房和豪华套房，对应的营业额分别为60000.0、45000.0、22500.0、15000.0和7500.0。\\'}, {\\'file_path\\': \\'resources/March Revenue Line Chart.jpg\\', \\'data_insights\\': \\'3月份每天的营收数据呈现出波动性，整体营收水平在4000-6000之间。\\'}]\\nthe file_path must be a valid path.\\nThe presentation should span 4 pages, with as many bullet points as possible. The content should be returned in Chinese.\\nYou must add content for each slide. For each slide, you must add at least 4 bullet.\\nPlease ensure the output is valid JSON match the RFC-8295 specification. Don\\'t return any other message'}]\n"
     ]
    },
    {
     "data": {
      "text/plain": [
       "{'title': '酒店经营数据汇报',\n",
       " 'pages': [{'type': 'text',\n",
       "   'title': '房型营业额总览',\n",
       "   'content': [{'title': '标准客房', 'description': '标准客房营业额为60000.0'},\n",
       "    {'title': '豪华客房', 'description': '豪华客房营业额为45000.0'},\n",
       "    {'title': '套房', 'description': '套房营业额为22500.0'},\n",
       "    {'title': '家庭客房', 'description': '家庭客房营业额为15000.0'}]},\n",
       "  {'type': 'chart',\n",
       "   'title': '3月营收趋势',\n",
       "   'content': [{'description': '3月份每天的营收数据波动性较大，整体营收水平在4000-6000之间',\n",
       "     'file_path': 'resources/March Revenue Line Chart.jpg'}]},\n",
       "  {'type': 'text',\n",
       "   'title': '客房分类营业额对比',\n",
       "   'content': [{'title': '豪华套房', 'description': '豪华套房营业额为7500.0'}]},\n",
       "  {'type': 'chart',\n",
       "   'title': '各房型营业额比例',\n",
       "   'content': [{'description': '房型营业额分布饼图',\n",
       "     'file_path': 'resources/各房型营业额饼图.jpg'}]}]}"
      ]
     },
     "execution_count": 7,
     "metadata": {},
     "output_type": "execute_result"
    }
   ],
   "execution_count": 7
  },
  {
   "metadata": {
    "ExecuteTime": {
     "end_time": "2024-11-01T14:37:29.552180Z",
     "start_time": "2024-11-01T14:37:29.549027Z"
    }
   },
   "cell_type": "code",
   "source": "PPTAgent.charts",
   "id": "1d797bcdc6797d9d",
   "outputs": [
    {
     "data": {
      "text/plain": [
       "[{'file_path': 'resources/各房型营业额饼图.jpg',\n",
       "  'data_insights': '该数据文件包含了五种类型的客房，分别是标准客房、豪华客房、套房、家庭客房和豪华套房，对应的营业额分别为60000.0、45000.0、22500.0、15000.0和7500.0。'},\n",
       " {'file_path': 'resources/March Revenue Line Chart.jpg',\n",
       "  'data_insights': '3月份每天的营收数据呈现出波动性，整体营收水平在4000-6000之间。'}]"
      ]
     },
     "execution_count": 8,
     "metadata": {},
     "output_type": "execute_result"
    }
   ],
   "execution_count": 8
  },
  {
   "metadata": {
    "ExecuteTime": {
     "end_time": "2024-11-01T14:37:36.019536Z",
     "start_time": "2024-11-01T14:37:35.783731Z"
    }
   },
   "cell_type": "code",
   "source": "PPTAgent.generate_ppt(ppt_content)",
   "id": "e05dd4d3752052c8",
   "outputs": [
    {
     "name": "stdout",
     "output_type": "stream",
     "text": [
      "Your PPT has 4 pages.\r\n",
      "Page 1: 房型营业额总览\r\n",
      "Page 2: 3月营收趋势\r\n",
      "Page 3: 客房分类营业额对比\r\n",
      "Page 4: 各房型营业额比例\r\n",
      "Generate done, enjoy!\r\n",
      "Your PPT: 酒店经营数据汇报_20241101223735.pptx\r\n"
     ]
    },
    {
     "data": {
      "text/plain": [
       "'酒店经营数据汇报_20241101223735.pptx'"
      ]
     },
     "execution_count": 9,
     "metadata": {},
     "output_type": "execute_result"
    }
   ],
   "execution_count": 9
  },
  {
   "metadata": {},
   "cell_type": "code",
   "outputs": [],
   "execution_count": null,
   "source": "",
   "id": "c195b1fa6b01dc92"
  }
 ],
 "metadata": {
  "kernelspec": {
   "display_name": "Python 3",
   "language": "python",
   "name": "python3"
  },
  "language_info": {
   "codemirror_mode": {
    "name": "ipython",
    "version": 2
   },
   "file_extension": ".py",
   "mimetype": "text/x-python",
   "name": "python",
   "nbconvert_exporter": "python",
   "pygments_lexer": "ipython2",
   "version": "2.7.6"
  }
 },
 "nbformat": 4,
 "nbformat_minor": 5
}
